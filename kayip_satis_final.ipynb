{
  "cells": [
    {
      "cell_type": "markdown",
      "metadata": {
        "id": "view-in-github",
        "colab_type": "text"
      },
      "source": [
        "<a href=\"https://colab.research.google.com/github/dgeip/kayip_satis/blob/main/kayip_satis_final.ipynb\" target=\"_parent\"><img src=\"https://colab.research.google.com/assets/colab-badge.svg\" alt=\"Open In Colab\"/></a>"
      ]
    },
    {
      "cell_type": "markdown",
      "source": [
        "# Lost Sale project\n",
        "\n",
        "\n",
        "The Lost Sale project I managed and coded while interning as a Data Analyst at MUDO, a retail company. The lost sales project is a machine learning project that estimates the 'demand gap' caused by stock shortages in the past. In the end, lost sales are displayed based on the store, size, and color. This can be utilized for purchasing of the product and allocation in the following year.\""
      ],
      "metadata": {
        "id": "-xY0t4XkCMlb"
      }
    },
    {
      "cell_type": "markdown",
      "source": [
        "In this notebook, linen shirt for summer 2022 named GM61 is examined."
      ],
      "metadata": {
        "id": "79JMuEyMCkaW"
      }
    },
    {
      "cell_type": "code",
      "execution_count": null,
      "metadata": {
        "id": "Ur7dfMJNH3ZJ"
      },
      "outputs": [],
      "source": [
        "import pandas as pd\n",
        "import numpy as np\n",
        "import matplotlib.pyplot as plt\n",
        "import seaborn as sns"
      ]
    },
    {
      "cell_type": "code",
      "source": [
        "piece = input(str(\"Name of the piece: \"))"
      ],
      "metadata": {
        "colab": {
          "base_uri": "https://localhost:8080/"
        },
        "id": "NZCeqBnPHL5X",
        "outputId": "908b6e93-fe1b-4b6f-f82e-ca549fcf04d7"
      },
      "execution_count": null,
      "outputs": [
        {
          "name": "stdout",
          "output_type": "stream",
          "text": [
            "Name of the piece: GM61\n"
          ]
        }
      ]
    },
    {
      "cell_type": "code",
      "source": [
        "# Import dataset\n",
        "data = pd.read_excel(str(piece+\"DB.xlsx\"))"
      ],
      "metadata": {
        "id": "1MrcNTGJHWl9"
      },
      "execution_count": null,
      "outputs": []
    },
    {
      "cell_type": "code",
      "source": [
        "# Select the season period of the dataset\n",
        "input(str(\"Sezon(Y/K): \"))\n",
        "if input == \"Y\" or input == \"y\":\n",
        "  data = data[(17 <= data.Hafta) & ( data.Hafta < 35)]\n",
        "elif input == \"K\" or input == \"k\":\n",
        "  data = data[(data.Hafta < 17) & (data.Hafta > 35)]"
      ],
      "metadata": {
        "colab": {
          "base_uri": "https://localhost:8080/"
        },
        "id": "3zMdNSckuTec",
        "outputId": "1dffc775-11e4-48dc-ac92-91205d770310"
      },
      "execution_count": null,
      "outputs": [
        {
          "name": "stdout",
          "output_type": "stream",
          "text": [
            "Sezon(Y/K): y\n"
          ]
        }
      ]
    },
    {
      "cell_type": "code",
      "execution_count": null,
      "metadata": {
        "id": "W5hkKE3kIMKF"
      },
      "outputs": [],
      "source": [
        "# Create the \"Key\" column\n",
        "data[\"Key\"] = data[\"Birim\"] + data[\"Beden\"] + data[\"Renk\"]"
      ]
    },
    {
      "cell_type": "code",
      "execution_count": null,
      "metadata": {
        "id": "nFl2EPlxFoyv"
      },
      "outputs": [],
      "source": [
        "# Detection and drop of the \"Birim\" where the product never went\n",
        "grouped = data.groupby(\"Key\")\n",
        "\n",
        "for name, group in grouped:\n",
        "  if np.sum(group.Stok) == 0:\n",
        "    data = data.drop(group.index)"
      ]
    },
    {
      "cell_type": "code",
      "execution_count": null,
      "metadata": {
        "id": "Q5crf5FoQfX5"
      },
      "outputs": [],
      "source": [
        "# Function for Moving Average columns\n",
        "def create_ma_columns(data, col_name, window_sizes):\n",
        "\n",
        "    for window_size in window_sizes:\n",
        "        col = f\"{col_name}_MA_{window_size}\"\n",
        "        data[col] = data.groupby('Key')[col_name].transform(lambda x: x.rolling(window=window_size).mean())\n",
        "    return data\n"
      ]
    },
    {
      "cell_type": "code",
      "execution_count": null,
      "metadata": {
        "id": "bYz-3Gg8QwCY"
      },
      "outputs": [],
      "source": [
        "# Creation of 3-week MA columns\n",
        "df = create_ma_columns(data, \"Satış\", [3])"
      ]
    },
    {
      "cell_type": "code",
      "source": [
        "df"
      ],
      "metadata": {
        "colab": {
          "base_uri": "https://localhost:8080/",
          "height": 548
        },
        "id": "9WFhV9Bnwp9k",
        "outputId": "01e6253b-79b6-4e0e-ade4-9334e2707a8d"
      },
      "execution_count": null,
      "outputs": [
        {
          "output_type": "execute_result",
          "data": {
            "text/plain": [
              "        Hafta                      Birim Beden        Renk  \\\n",
              "0          17  A.pazarı Agora Mudo Giyim     L       BEYAZ   \n",
              "1          17  A.pazarı Agora Mudo Giyim     L       SİYAH   \n",
              "2          17  A.pazarı Agora Mudo Giyim     L  GÜL KURUSU   \n",
              "3          17  A.pazarı Agora Mudo Giyim     L     KİREMİT   \n",
              "4          17  A.pazarı Agora Mudo Giyim     L   AÇIK MAVİ   \n",
              "...       ...                        ...   ...         ...   \n",
              "187901     52        Yalova Setur Marina   XXL       SİYAH   \n",
              "187906     52        Yalova Setur Marina   XXL      İNDİGO   \n",
              "187910     52        Yalova Setur Marina  XXXL       BEYAZ   \n",
              "187911     52        Yalova Setur Marina  XXXL       SİYAH   \n",
              "187916     52        Yalova Setur Marina  XXXL      İNDİGO   \n",
              "\n",
              "                                         Key  Satış  Stok  Satış_MA_3  \n",
              "0            A.pazarı Agora Mudo GiyimLBEYAZ      1     1         NaN  \n",
              "1            A.pazarı Agora Mudo GiyimLSİYAH      0     2         NaN  \n",
              "2       A.pazarı Agora Mudo GiyimLGÜL KURUSU      0     2         NaN  \n",
              "3          A.pazarı Agora Mudo GiyimLKİREMİT      0     2         NaN  \n",
              "4        A.pazarı Agora Mudo GiyimLAÇIK MAVİ      0     2         NaN  \n",
              "...                                      ...    ...   ...         ...  \n",
              "187901           Yalova Setur MarinaXXLSİYAH      0     0         0.0  \n",
              "187906          Yalova Setur MarinaXXLİNDİGO      0     0         0.0  \n",
              "187910          Yalova Setur MarinaXXXLBEYAZ      0     0         0.0  \n",
              "187911          Yalova Setur MarinaXXXLSİYAH      0     0         0.0  \n",
              "187916         Yalova Setur MarinaXXXLİNDİGO      0     0         0.0  \n",
              "\n",
              "[158400 rows x 8 columns]"
            ],
            "text/html": [
              "\n",
              "  <div id=\"df-57afabdf-be63-4626-a62a-52b6616569ea\">\n",
              "    <div class=\"colab-df-container\">\n",
              "      <div>\n",
              "<style scoped>\n",
              "    .dataframe tbody tr th:only-of-type {\n",
              "        vertical-align: middle;\n",
              "    }\n",
              "\n",
              "    .dataframe tbody tr th {\n",
              "        vertical-align: top;\n",
              "    }\n",
              "\n",
              "    .dataframe thead th {\n",
              "        text-align: right;\n",
              "    }\n",
              "</style>\n",
              "<table border=\"1\" class=\"dataframe\">\n",
              "  <thead>\n",
              "    <tr style=\"text-align: right;\">\n",
              "      <th></th>\n",
              "      <th>Hafta</th>\n",
              "      <th>Birim</th>\n",
              "      <th>Beden</th>\n",
              "      <th>Renk</th>\n",
              "      <th>Key</th>\n",
              "      <th>Satış</th>\n",
              "      <th>Stok</th>\n",
              "      <th>Satış_MA_3</th>\n",
              "    </tr>\n",
              "  </thead>\n",
              "  <tbody>\n",
              "    <tr>\n",
              "      <th>0</th>\n",
              "      <td>17</td>\n",
              "      <td>A.pazarı Agora Mudo Giyim</td>\n",
              "      <td>L</td>\n",
              "      <td>BEYAZ</td>\n",
              "      <td>A.pazarı Agora Mudo GiyimLBEYAZ</td>\n",
              "      <td>1</td>\n",
              "      <td>1</td>\n",
              "      <td>NaN</td>\n",
              "    </tr>\n",
              "    <tr>\n",
              "      <th>1</th>\n",
              "      <td>17</td>\n",
              "      <td>A.pazarı Agora Mudo Giyim</td>\n",
              "      <td>L</td>\n",
              "      <td>SİYAH</td>\n",
              "      <td>A.pazarı Agora Mudo GiyimLSİYAH</td>\n",
              "      <td>0</td>\n",
              "      <td>2</td>\n",
              "      <td>NaN</td>\n",
              "    </tr>\n",
              "    <tr>\n",
              "      <th>2</th>\n",
              "      <td>17</td>\n",
              "      <td>A.pazarı Agora Mudo Giyim</td>\n",
              "      <td>L</td>\n",
              "      <td>GÜL KURUSU</td>\n",
              "      <td>A.pazarı Agora Mudo GiyimLGÜL KURUSU</td>\n",
              "      <td>0</td>\n",
              "      <td>2</td>\n",
              "      <td>NaN</td>\n",
              "    </tr>\n",
              "    <tr>\n",
              "      <th>3</th>\n",
              "      <td>17</td>\n",
              "      <td>A.pazarı Agora Mudo Giyim</td>\n",
              "      <td>L</td>\n",
              "      <td>KİREMİT</td>\n",
              "      <td>A.pazarı Agora Mudo GiyimLKİREMİT</td>\n",
              "      <td>0</td>\n",
              "      <td>2</td>\n",
              "      <td>NaN</td>\n",
              "    </tr>\n",
              "    <tr>\n",
              "      <th>4</th>\n",
              "      <td>17</td>\n",
              "      <td>A.pazarı Agora Mudo Giyim</td>\n",
              "      <td>L</td>\n",
              "      <td>AÇIK MAVİ</td>\n",
              "      <td>A.pazarı Agora Mudo GiyimLAÇIK MAVİ</td>\n",
              "      <td>0</td>\n",
              "      <td>2</td>\n",
              "      <td>NaN</td>\n",
              "    </tr>\n",
              "    <tr>\n",
              "      <th>...</th>\n",
              "      <td>...</td>\n",
              "      <td>...</td>\n",
              "      <td>...</td>\n",
              "      <td>...</td>\n",
              "      <td>...</td>\n",
              "      <td>...</td>\n",
              "      <td>...</td>\n",
              "      <td>...</td>\n",
              "    </tr>\n",
              "    <tr>\n",
              "      <th>187901</th>\n",
              "      <td>52</td>\n",
              "      <td>Yalova Setur Marina</td>\n",
              "      <td>XXL</td>\n",
              "      <td>SİYAH</td>\n",
              "      <td>Yalova Setur MarinaXXLSİYAH</td>\n",
              "      <td>0</td>\n",
              "      <td>0</td>\n",
              "      <td>0.0</td>\n",
              "    </tr>\n",
              "    <tr>\n",
              "      <th>187906</th>\n",
              "      <td>52</td>\n",
              "      <td>Yalova Setur Marina</td>\n",
              "      <td>XXL</td>\n",
              "      <td>İNDİGO</td>\n",
              "      <td>Yalova Setur MarinaXXLİNDİGO</td>\n",
              "      <td>0</td>\n",
              "      <td>0</td>\n",
              "      <td>0.0</td>\n",
              "    </tr>\n",
              "    <tr>\n",
              "      <th>187910</th>\n",
              "      <td>52</td>\n",
              "      <td>Yalova Setur Marina</td>\n",
              "      <td>XXXL</td>\n",
              "      <td>BEYAZ</td>\n",
              "      <td>Yalova Setur MarinaXXXLBEYAZ</td>\n",
              "      <td>0</td>\n",
              "      <td>0</td>\n",
              "      <td>0.0</td>\n",
              "    </tr>\n",
              "    <tr>\n",
              "      <th>187911</th>\n",
              "      <td>52</td>\n",
              "      <td>Yalova Setur Marina</td>\n",
              "      <td>XXXL</td>\n",
              "      <td>SİYAH</td>\n",
              "      <td>Yalova Setur MarinaXXXLSİYAH</td>\n",
              "      <td>0</td>\n",
              "      <td>0</td>\n",
              "      <td>0.0</td>\n",
              "    </tr>\n",
              "    <tr>\n",
              "      <th>187916</th>\n",
              "      <td>52</td>\n",
              "      <td>Yalova Setur Marina</td>\n",
              "      <td>XXXL</td>\n",
              "      <td>İNDİGO</td>\n",
              "      <td>Yalova Setur MarinaXXXLİNDİGO</td>\n",
              "      <td>0</td>\n",
              "      <td>0</td>\n",
              "      <td>0.0</td>\n",
              "    </tr>\n",
              "  </tbody>\n",
              "</table>\n",
              "<p>158400 rows × 8 columns</p>\n",
              "</div>\n",
              "      <button class=\"colab-df-convert\" onclick=\"convertToInteractive('df-57afabdf-be63-4626-a62a-52b6616569ea')\"\n",
              "              title=\"Convert this dataframe to an interactive table.\"\n",
              "              style=\"display:none;\">\n",
              "        \n",
              "  <svg xmlns=\"http://www.w3.org/2000/svg\" height=\"24px\"viewBox=\"0 0 24 24\"\n",
              "       width=\"24px\">\n",
              "    <path d=\"M0 0h24v24H0V0z\" fill=\"none\"/>\n",
              "    <path d=\"M18.56 5.44l.94 2.06.94-2.06 2.06-.94-2.06-.94-.94-2.06-.94 2.06-2.06.94zm-11 1L8.5 8.5l.94-2.06 2.06-.94-2.06-.94L8.5 2.5l-.94 2.06-2.06.94zm10 10l.94 2.06.94-2.06 2.06-.94-2.06-.94-.94-2.06-.94 2.06-2.06.94z\"/><path d=\"M17.41 7.96l-1.37-1.37c-.4-.4-.92-.59-1.43-.59-.52 0-1.04.2-1.43.59L10.3 9.45l-7.72 7.72c-.78.78-.78 2.05 0 2.83L4 21.41c.39.39.9.59 1.41.59.51 0 1.02-.2 1.41-.59l7.78-7.78 2.81-2.81c.8-.78.8-2.07 0-2.86zM5.41 20L4 18.59l7.72-7.72 1.47 1.35L5.41 20z\"/>\n",
              "  </svg>\n",
              "      </button>\n",
              "      \n",
              "  <style>\n",
              "    .colab-df-container {\n",
              "      display:flex;\n",
              "      flex-wrap:wrap;\n",
              "      gap: 12px;\n",
              "    }\n",
              "\n",
              "    .colab-df-convert {\n",
              "      background-color: #E8F0FE;\n",
              "      border: none;\n",
              "      border-radius: 50%;\n",
              "      cursor: pointer;\n",
              "      display: none;\n",
              "      fill: #1967D2;\n",
              "      height: 32px;\n",
              "      padding: 0 0 0 0;\n",
              "      width: 32px;\n",
              "    }\n",
              "\n",
              "    .colab-df-convert:hover {\n",
              "      background-color: #E2EBFA;\n",
              "      box-shadow: 0px 1px 2px rgba(60, 64, 67, 0.3), 0px 1px 3px 1px rgba(60, 64, 67, 0.15);\n",
              "      fill: #174EA6;\n",
              "    }\n",
              "\n",
              "    [theme=dark] .colab-df-convert {\n",
              "      background-color: #3B4455;\n",
              "      fill: #D2E3FC;\n",
              "    }\n",
              "\n",
              "    [theme=dark] .colab-df-convert:hover {\n",
              "      background-color: #434B5C;\n",
              "      box-shadow: 0px 1px 3px 1px rgba(0, 0, 0, 0.15);\n",
              "      filter: drop-shadow(0px 1px 2px rgba(0, 0, 0, 0.3));\n",
              "      fill: #FFFFFF;\n",
              "    }\n",
              "  </style>\n",
              "\n",
              "      <script>\n",
              "        const buttonEl =\n",
              "          document.querySelector('#df-57afabdf-be63-4626-a62a-52b6616569ea button.colab-df-convert');\n",
              "        buttonEl.style.display =\n",
              "          google.colab.kernel.accessAllowed ? 'block' : 'none';\n",
              "\n",
              "        async function convertToInteractive(key) {\n",
              "          const element = document.querySelector('#df-57afabdf-be63-4626-a62a-52b6616569ea');\n",
              "          const dataTable =\n",
              "            await google.colab.kernel.invokeFunction('convertToInteractive',\n",
              "                                                     [key], {});\n",
              "          if (!dataTable) return;\n",
              "\n",
              "          const docLinkHtml = 'Like what you see? Visit the ' +\n",
              "            '<a target=\"_blank\" href=https://colab.research.google.com/notebooks/data_table.ipynb>data table notebook</a>'\n",
              "            + ' to learn more about interactive tables.';\n",
              "          element.innerHTML = '';\n",
              "          dataTable['output_type'] = 'display_data';\n",
              "          await google.colab.output.renderOutput(dataTable, element);\n",
              "          const docLink = document.createElement('div');\n",
              "          docLink.innerHTML = docLinkHtml;\n",
              "          element.appendChild(docLink);\n",
              "        }\n",
              "      </script>\n",
              "    </div>\n",
              "  </div>\n",
              "  "
            ]
          },
          "metadata": {},
          "execution_count": 34
        }
      ]
    },
    {
      "cell_type": "code",
      "source": [
        "# Create a new column to fill in \"0\" sales due to lost sales and NaN values ​due to the MA_3\n",
        "df['gen_MA_1'] = df['Satış_MA_3'].copy()"
      ],
      "metadata": {
        "id": "MZlzGEu_9qoT"
      },
      "execution_count": null,
      "outputs": []
    },
    {
      "cell_type": "code",
      "source": [
        "def plot_dist(best_distribution, best_param):\n",
        "    print(f\"Best fitting distribution: {best_distribution.name}\")\n",
        "    print(f\"Parameters: {best_params}\")\n",
        "    plt.hist(data, bins=20, density=True, alpha=0.6, color='g')\n",
        "    xmin, xmax = plt.xlim()\n",
        "    x = np.linspace(xmin, xmax, 100)\n",
        "    p = best_distribution(*best_param).pdf(x)\n",
        "    plt.plot(x, p, 'k', linewidth=2)\n",
        "    title = f\"{best_distribution.name}\"\n",
        "    plt.title(title)\n",
        "    plt.show()"
      ],
      "metadata": {
        "id": "YI0IdNqI2P2K"
      },
      "execution_count": null,
      "outputs": []
    },
    {
      "cell_type": "code",
      "source": [
        "from scipy import stats\n",
        "\n",
        "\n",
        "np.random.seed(42)\n",
        "\n",
        "# Distributions\n",
        "distributions = [stats.norm, stats.expon, stats.lognorm, stats.beta, stats.chi2,\n",
        "                 stats.gamma, stats.genextreme, stats.genpareto, stats.triang]\n",
        "\n",
        "best_distributions = {}\n",
        "best_params = {}\n",
        "best_sse = {}\n",
        "\n",
        "# Create grouped data on the basis of \"Renk\", since distributions will be tried on \"Renk\"\n",
        "grouped = df.groupby(\"Renk\")\n",
        "\n",
        "# Iterate over each group\n",
        "for name, group in grouped:\n",
        "\n",
        "    # Drop NaN values ​​to make distribution fit work\n",
        "    data = group['gen_MA_1'].dropna()\n",
        "\n",
        "    best_distribution = None\n",
        "    best_param = None\n",
        "    best_sse = np.inf\n",
        "\n",
        "    # Try distributions\n",
        "    for distribution in distributions:\n",
        "        try:\n",
        "            params = distribution.fit(data)\n",
        "\n",
        "            # Calculate SSE\n",
        "            sse = np.sum((data - distribution(*params).rvs(len(data), random_state=42)) ** 2)\n",
        "\n",
        "            # Check if it is better than the previous iteration\n",
        "            if sse < best_sse:\n",
        "                best_distribution = distribution\n",
        "                best_param = params\n",
        "                best_sse = sse\n",
        "        except Exception as e:\n",
        "            print(f\"Could not fit {distribution.name} distribution for group {name}: {e}\")\n",
        "\n",
        "    # Store the optimal distribution and parameters for the current group\n",
        "    best_distributions[name] = best_distribution\n",
        "    best_params[name] = best_param\n",
        "\n",
        "    # Get the optimal distribution for the current group\n",
        "    best_distribution = best_distributions[name]\n",
        "    best_param = best_params[name]\n",
        "\n",
        "    # (Optional) Plotting the distribution of \"Renk\"\n",
        "    # plot_dist(best_distribution, best_param)\n",
        "\n",
        "    # Fill NaN values ​by randomly selecting values from distribution\n",
        "    missing_indexes = group.index[group['gen_MA_1'].isna()]\n",
        "    for missing_index in missing_indexes:\n",
        "        df.loc[missing_index, 'gen_MA_1'] = best_distribution(*best_param).rvs()\n",
        "\n",
        "    # Fill \"0\" values ​by randomly selecting values from distribution\n",
        "    zero_indexes = group[(group.Satış_MA_3 == 0) & (group.Stok == 0)].index\n",
        "    for zero_index in zero_indexes:\n",
        "        df.loc[zero_index, 'gen_MA_1'] = best_distribution(*best_param).rvs()\n"
      ],
      "metadata": {
        "id": "2rlxHtUXwUvI"
      },
      "execution_count": null,
      "outputs": []
    },
    {
      "cell_type": "code",
      "source": [
        "print(f\"Sum of the original Satış_MA3: {df.Satış_MA_3.sum()}\")\n",
        "print(f\"Sum of the Generated Satış_MA3: {df.gen_MA_1.sum()}\")"
      ],
      "metadata": {
        "id": "Sim7EpV87eUG",
        "colab": {
          "base_uri": "https://localhost:8080/"
        },
        "outputId": "dea127e3-32a3-4cc8-f337-683d6b310b05"
      },
      "execution_count": null,
      "outputs": [
        {
          "output_type": "stream",
          "name": "stdout",
          "text": [
            "Sum of the original Satış_MA3: 10519.666666666666\n",
            "Sum of the Generated Satış_MA3: 13238.755607286674\n"
          ]
        }
      ]
    },
    {
      "cell_type": "code",
      "execution_count": null,
      "metadata": {
        "id": "sYkt9rulhUps"
      },
      "outputs": [],
      "source": [
        "# Drop the \"Key\" and \"Original Satış_MA_3\" columns\n",
        "df = df.drop([\"Satış_MA_3\", \"Key\"], axis = 1)"
      ]
    },
    {
      "cell_type": "code",
      "execution_count": null,
      "metadata": {
        "id": "NLqmXxRdK7x0"
      },
      "outputs": [],
      "source": [
        "## (OPTIONAL) Correlation heatmap\n",
        "# sns.heatmap(df.drop(\"Birim\", axis = 1).corr(), annot = True);"
      ]
    },
    {
      "cell_type": "code",
      "execution_count": null,
      "metadata": {
        "colab": {
          "base_uri": "https://localhost:8080/"
        },
        "id": "BrDNszbkUl4n",
        "outputId": "a1848632-cd86-4b9b-960e-c97d4dc09e6f"
      },
      "outputs": [
        {
          "output_type": "execute_result",
          "data": {
            "text/plain": [
              "Hafta       0\n",
              "Birim       0\n",
              "Beden       0\n",
              "Renk        0\n",
              "Satış       0\n",
              "Stok        0\n",
              "gen_MA_1    0\n",
              "dtype: int64"
            ]
          },
          "metadata": {},
          "execution_count": 41
        }
      ],
      "source": [
        "# Check for missing values\n",
        "df.isna().sum()"
      ]
    },
    {
      "cell_type": "code",
      "execution_count": null,
      "metadata": {
        "id": "jy5suNzWiI8U"
      },
      "outputs": [],
      "source": [
        "# Suppression of outliers\n",
        "df.Satış[df.Satış >= 6 ] = 5\n",
        "df.Satış[df.Satış <= 0 ] = 0"
      ]
    },
    {
      "cell_type": "code",
      "execution_count": null,
      "metadata": {
        "id": "NQel497uSSGD"
      },
      "outputs": [],
      "source": [
        "# Get the preliminary schema for Excel output\n",
        "out_excel= df[df.Stok == 0]"
      ]
    },
    {
      "cell_type": "code",
      "execution_count": null,
      "metadata": {
        "id": "4UpeR1RrKR0V"
      },
      "outputs": [],
      "source": [
        "# Create the dummy variables\n",
        "df = pd.get_dummies(df, drop_first = True)"
      ]
    },
    {
      "cell_type": "code",
      "execution_count": null,
      "metadata": {
        "id": "8Iye6B9AY-T6"
      },
      "outputs": [],
      "source": [
        "# Create the test set\n",
        "test_df = df[df.Stok == 0]\n",
        "\n",
        "# Select the places where inventory is not 0 or where Sales is greater than zero for the train dataset\n",
        "# Thus, places where \"stock and sales are 0 at the same time\" are not available in the dataset.\n",
        "\n",
        "df = df[(df.Stok != 0)|(df.Satış > 0)]"
      ]
    },
    {
      "cell_type": "code",
      "execution_count": null,
      "metadata": {
        "id": "XtCs7x-iL3dX"
      },
      "outputs": [],
      "source": [
        "X_train = df.drop([\"Satış\", \"Stok\"], axis = 1)\n",
        "y_train = df.Satış"
      ]
    },
    {
      "cell_type": "code",
      "execution_count": null,
      "metadata": {
        "id": "pU1_sQeGhO2o"
      },
      "outputs": [],
      "source": [
        "X_test = test_df.drop([\"Satış\", \"Stok\"], axis = 1)\n",
        "y_test = test_df.Satış"
      ]
    },
    {
      "cell_type": "code",
      "execution_count": null,
      "metadata": {
        "id": "wBpc7DAiK1vK"
      },
      "outputs": [],
      "source": [
        "from sklearn.preprocessing import StandardScaler\n",
        "from sklearn.feature_selection import SelectKBest, f_regression\n",
        "from sklearn.model_selection import GridSearchCV, cross_val_score, StratifiedKFold\n",
        "from xgboost import XGBRegressor\n",
        "from sklearn.pipeline import Pipeline\n",
        "from sklearn.metrics import mean_squared_error, r2_score, f1_score"
      ]
    },
    {
      "cell_type": "code",
      "execution_count": null,
      "metadata": {
        "id": "L4DY1s7AMdxM"
      },
      "outputs": [],
      "source": [
        "# Standardization with Standard Scaler (-1,1)\n",
        "scaler = StandardScaler()\n",
        "X_train_scaled = scaler.fit_transform(X_train)\n",
        "\n",
        "# Implementation of SelectKBest for Feature Selection\n",
        "selector = SelectKBest(k = 45)\n",
        "selector.fit(X_train_scaled, y_train)\n",
        "X_train_selected = selector.transform(X_train_scaled)"
      ]
    },
    {
      "cell_type": "code",
      "execution_count": null,
      "metadata": {
        "id": "Q0Ae7_MaMdu8"
      },
      "outputs": [],
      "source": [
        "# XGBRegressor\n",
        "model = XGBRegressor(random_state = 42)\n",
        "\n",
        "# Establish the ML pipeline to prevent data leakage\n",
        "pipe = Pipeline([\n",
        "    ('scaler', StandardScaler()),\n",
        "    ('selector', SelectKBest(k=45)),\n",
        "    ('model', model)\n",
        "])"
      ]
    },
    {
      "cell_type": "code",
      "execution_count": null,
      "metadata": {
        "id": "pAKVV-8ZM3gM",
        "colab": {
          "base_uri": "https://localhost:8080/"
        },
        "outputId": "5abf7d09-52f7-4279-bbab-fc96b27bd395"
      },
      "outputs": [
        {
          "output_type": "stream",
          "name": "stdout",
          "text": [
            "Mean Squared Error: 0.15213829865271292\n",
            "F1 Score: 0.5573113758421842\n",
            "R2 Score: 0.494596342157824\n"
          ]
        }
      ],
      "source": [
        "# Fit the model\n",
        "pipe.fit(X_train, y_train)\n",
        "\n",
        "# Predictions\n",
        "y_pred = pipe.predict(X_train)\n",
        "y_pred = np.around(y_pred)\n",
        "\n",
        "# Evaluation\n",
        "mse = mean_squared_error(y_train, y_pred)\n",
        "r2 = r2_score(y_train, y_pred)\n",
        "f1 = f1_score(y_train, y_pred, average = \"macro\")\n",
        "print(f'Mean Squared Error: {mse}')\n",
        "print(f'F1 Score: {f1}')\n",
        "print(f'R2 Score: {r2}')"
      ]
    },
    {
      "cell_type": "code",
      "execution_count": null,
      "metadata": {
        "colab": {
          "base_uri": "https://localhost:8080/"
        },
        "id": "mTVwhsiGM3eP",
        "outputId": "817bec95-ba67-4d23-bde8-2aaf8611d317"
      },
      "outputs": [
        {
          "output_type": "stream",
          "name": "stdout",
          "text": [
            "Sum of the predictions based on train set: 9509.0\n",
            "Sum of the Satış in the train set : 10883\n"
          ]
        }
      ],
      "source": [
        "print(f\"Sum of the predictions based on train set: {y_pred.sum()}\")\n",
        "print(f\"Sum of the Satış in the train set : {y_train.sum()}\")"
      ]
    },
    {
      "cell_type": "code",
      "execution_count": null,
      "metadata": {
        "id": "fePOmVvvbhOz"
      },
      "outputs": [],
      "source": [
        "# Cross Validation\n",
        "# StratifiedKFold is used instead of plain KFold because dataset is \"unbalanced\"\n",
        "skf = StratifiedKFold(n_splits=5, shuffle=True, random_state=42)"
      ]
    },
    {
      "cell_type": "code",
      "execution_count": null,
      "metadata": {
        "colab": {
          "base_uri": "https://localhost:8080/"
        },
        "id": "56kGCh1K14FU",
        "outputId": "cb1f53c9-2b0d-4e66-8db5-01e059f08033"
      },
      "outputs": [
        {
          "output_type": "stream",
          "name": "stdout",
          "text": [
            "Ortalama CV Score: 0.5068540599460543\n",
            "CV Skorları: [0.49831345 0.51296057 0.48832121 0.51549645 0.51917862]\n"
          ]
        }
      ],
      "source": [
        "# Create the CV scores and examine the average\n",
        "ffcv = cross_val_score(pipe, X_train, y_train, cv= skf, scoring = \"r2\")\n",
        "print(f\"Ortalama CV Score: {np.mean(ffcv)}\")\n",
        "print(f\"CV Skorları: {ffcv}\")"
      ]
    },
    {
      "cell_type": "code",
      "execution_count": null,
      "metadata": {
        "colab": {
          "base_uri": "https://localhost:8080/",
          "height": 184
        },
        "id": "H0n3vxQgqV58",
        "outputId": "0bcb2f29-f83c-43da-d68f-bee957f2b829"
      },
      "outputs": [
        {
          "output_type": "execute_result",
          "data": {
            "text/plain": [
              "GridSearchCV(cv=StratifiedKFold(n_splits=5, random_state=42, shuffle=True),\n",
              "             estimator=Pipeline(steps=[('scaler', StandardScaler()),\n",
              "                                       ('selector', SelectKBest(k=45)),\n",
              "                                       ('model',\n",
              "                                        XGBRegressor(base_score=None,\n",
              "                                                     booster=None,\n",
              "                                                     callbacks=None,\n",
              "                                                     colsample_bylevel=None,\n",
              "                                                     colsample_bynode=None,\n",
              "                                                     colsample_bytree=None,\n",
              "                                                     early_stopping_rounds=None,\n",
              "                                                     enable_categorical=False,\n",
              "                                                     eval_me...\n",
              "                                                     learning_rate=None,\n",
              "                                                     max_bin=None,\n",
              "                                                     max_cat_threshold=None,\n",
              "                                                     max_cat_to_onehot=None,\n",
              "                                                     max_delta_step=None,\n",
              "                                                     max_depth=None,\n",
              "                                                     max_leaves=None,\n",
              "                                                     min_child_weight=None,\n",
              "                                                     missing=nan,\n",
              "                                                     monotone_constraints=None,\n",
              "                                                     n_estimators=100,\n",
              "                                                     n_jobs=None,\n",
              "                                                     num_parallel_tree=None,\n",
              "                                                     predictor=None,\n",
              "                                                     random_state=42, ...))]),\n",
              "             n_jobs=-1, param_grid={'selector__k': [10, 20, 30, 40, 45, 50]},\n",
              "             scoring='r2')"
            ],
            "text/html": [
              "<style>#sk-container-id-1 {color: black;background-color: white;}#sk-container-id-1 pre{padding: 0;}#sk-container-id-1 div.sk-toggleable {background-color: white;}#sk-container-id-1 label.sk-toggleable__label {cursor: pointer;display: block;width: 100%;margin-bottom: 0;padding: 0.3em;box-sizing: border-box;text-align: center;}#sk-container-id-1 label.sk-toggleable__label-arrow:before {content: \"▸\";float: left;margin-right: 0.25em;color: #696969;}#sk-container-id-1 label.sk-toggleable__label-arrow:hover:before {color: black;}#sk-container-id-1 div.sk-estimator:hover label.sk-toggleable__label-arrow:before {color: black;}#sk-container-id-1 div.sk-toggleable__content {max-height: 0;max-width: 0;overflow: hidden;text-align: left;background-color: #f0f8ff;}#sk-container-id-1 div.sk-toggleable__content pre {margin: 0.2em;color: black;border-radius: 0.25em;background-color: #f0f8ff;}#sk-container-id-1 input.sk-toggleable__control:checked~div.sk-toggleable__content {max-height: 200px;max-width: 100%;overflow: auto;}#sk-container-id-1 input.sk-toggleable__control:checked~label.sk-toggleable__label-arrow:before {content: \"▾\";}#sk-container-id-1 div.sk-estimator input.sk-toggleable__control:checked~label.sk-toggleable__label {background-color: #d4ebff;}#sk-container-id-1 div.sk-label input.sk-toggleable__control:checked~label.sk-toggleable__label {background-color: #d4ebff;}#sk-container-id-1 input.sk-hidden--visually {border: 0;clip: rect(1px 1px 1px 1px);clip: rect(1px, 1px, 1px, 1px);height: 1px;margin: -1px;overflow: hidden;padding: 0;position: absolute;width: 1px;}#sk-container-id-1 div.sk-estimator {font-family: monospace;background-color: #f0f8ff;border: 1px dotted black;border-radius: 0.25em;box-sizing: border-box;margin-bottom: 0.5em;}#sk-container-id-1 div.sk-estimator:hover {background-color: #d4ebff;}#sk-container-id-1 div.sk-parallel-item::after {content: \"\";width: 100%;border-bottom: 1px solid gray;flex-grow: 1;}#sk-container-id-1 div.sk-label:hover label.sk-toggleable__label {background-color: #d4ebff;}#sk-container-id-1 div.sk-serial::before {content: \"\";position: absolute;border-left: 1px solid gray;box-sizing: border-box;top: 0;bottom: 0;left: 50%;z-index: 0;}#sk-container-id-1 div.sk-serial {display: flex;flex-direction: column;align-items: center;background-color: white;padding-right: 0.2em;padding-left: 0.2em;position: relative;}#sk-container-id-1 div.sk-item {position: relative;z-index: 1;}#sk-container-id-1 div.sk-parallel {display: flex;align-items: stretch;justify-content: center;background-color: white;position: relative;}#sk-container-id-1 div.sk-item::before, #sk-container-id-1 div.sk-parallel-item::before {content: \"\";position: absolute;border-left: 1px solid gray;box-sizing: border-box;top: 0;bottom: 0;left: 50%;z-index: -1;}#sk-container-id-1 div.sk-parallel-item {display: flex;flex-direction: column;z-index: 1;position: relative;background-color: white;}#sk-container-id-1 div.sk-parallel-item:first-child::after {align-self: flex-end;width: 50%;}#sk-container-id-1 div.sk-parallel-item:last-child::after {align-self: flex-start;width: 50%;}#sk-container-id-1 div.sk-parallel-item:only-child::after {width: 0;}#sk-container-id-1 div.sk-dashed-wrapped {border: 1px dashed gray;margin: 0 0.4em 0.5em 0.4em;box-sizing: border-box;padding-bottom: 0.4em;background-color: white;}#sk-container-id-1 div.sk-label label {font-family: monospace;font-weight: bold;display: inline-block;line-height: 1.2em;}#sk-container-id-1 div.sk-label-container {text-align: center;}#sk-container-id-1 div.sk-container {/* jupyter's `normalize.less` sets `[hidden] { display: none; }` but bootstrap.min.css set `[hidden] { display: none !important; }` so we also need the `!important` here to be able to override the default hidden behavior on the sphinx rendered scikit-learn.org. See: https://github.com/scikit-learn/scikit-learn/issues/21755 */display: inline-block !important;position: relative;}#sk-container-id-1 div.sk-text-repr-fallback {display: none;}</style><div id=\"sk-container-id-1\" class=\"sk-top-container\"><div class=\"sk-text-repr-fallback\"><pre>GridSearchCV(cv=StratifiedKFold(n_splits=5, random_state=42, shuffle=True),\n",
              "             estimator=Pipeline(steps=[(&#x27;scaler&#x27;, StandardScaler()),\n",
              "                                       (&#x27;selector&#x27;, SelectKBest(k=45)),\n",
              "                                       (&#x27;model&#x27;,\n",
              "                                        XGBRegressor(base_score=None,\n",
              "                                                     booster=None,\n",
              "                                                     callbacks=None,\n",
              "                                                     colsample_bylevel=None,\n",
              "                                                     colsample_bynode=None,\n",
              "                                                     colsample_bytree=None,\n",
              "                                                     early_stopping_rounds=None,\n",
              "                                                     enable_categorical=False,\n",
              "                                                     eval_me...\n",
              "                                                     learning_rate=None,\n",
              "                                                     max_bin=None,\n",
              "                                                     max_cat_threshold=None,\n",
              "                                                     max_cat_to_onehot=None,\n",
              "                                                     max_delta_step=None,\n",
              "                                                     max_depth=None,\n",
              "                                                     max_leaves=None,\n",
              "                                                     min_child_weight=None,\n",
              "                                                     missing=nan,\n",
              "                                                     monotone_constraints=None,\n",
              "                                                     n_estimators=100,\n",
              "                                                     n_jobs=None,\n",
              "                                                     num_parallel_tree=None,\n",
              "                                                     predictor=None,\n",
              "                                                     random_state=42, ...))]),\n",
              "             n_jobs=-1, param_grid={&#x27;selector__k&#x27;: [10, 20, 30, 40, 45, 50]},\n",
              "             scoring=&#x27;r2&#x27;)</pre><b>In a Jupyter environment, please rerun this cell to show the HTML representation or trust the notebook. <br />On GitHub, the HTML representation is unable to render, please try loading this page with nbviewer.org.</b></div><div class=\"sk-container\" hidden><div class=\"sk-item sk-dashed-wrapped\"><div class=\"sk-label-container\"><div class=\"sk-label sk-toggleable\"><input class=\"sk-toggleable__control sk-hidden--visually\" id=\"sk-estimator-id-1\" type=\"checkbox\" ><label for=\"sk-estimator-id-1\" class=\"sk-toggleable__label sk-toggleable__label-arrow\">GridSearchCV</label><div class=\"sk-toggleable__content\"><pre>GridSearchCV(cv=StratifiedKFold(n_splits=5, random_state=42, shuffle=True),\n",
              "             estimator=Pipeline(steps=[(&#x27;scaler&#x27;, StandardScaler()),\n",
              "                                       (&#x27;selector&#x27;, SelectKBest(k=45)),\n",
              "                                       (&#x27;model&#x27;,\n",
              "                                        XGBRegressor(base_score=None,\n",
              "                                                     booster=None,\n",
              "                                                     callbacks=None,\n",
              "                                                     colsample_bylevel=None,\n",
              "                                                     colsample_bynode=None,\n",
              "                                                     colsample_bytree=None,\n",
              "                                                     early_stopping_rounds=None,\n",
              "                                                     enable_categorical=False,\n",
              "                                                     eval_me...\n",
              "                                                     learning_rate=None,\n",
              "                                                     max_bin=None,\n",
              "                                                     max_cat_threshold=None,\n",
              "                                                     max_cat_to_onehot=None,\n",
              "                                                     max_delta_step=None,\n",
              "                                                     max_depth=None,\n",
              "                                                     max_leaves=None,\n",
              "                                                     min_child_weight=None,\n",
              "                                                     missing=nan,\n",
              "                                                     monotone_constraints=None,\n",
              "                                                     n_estimators=100,\n",
              "                                                     n_jobs=None,\n",
              "                                                     num_parallel_tree=None,\n",
              "                                                     predictor=None,\n",
              "                                                     random_state=42, ...))]),\n",
              "             n_jobs=-1, param_grid={&#x27;selector__k&#x27;: [10, 20, 30, 40, 45, 50]},\n",
              "             scoring=&#x27;r2&#x27;)</pre></div></div></div><div class=\"sk-parallel\"><div class=\"sk-parallel-item\"><div class=\"sk-item\"><div class=\"sk-label-container\"><div class=\"sk-label sk-toggleable\"><input class=\"sk-toggleable__control sk-hidden--visually\" id=\"sk-estimator-id-2\" type=\"checkbox\" ><label for=\"sk-estimator-id-2\" class=\"sk-toggleable__label sk-toggleable__label-arrow\">estimator: Pipeline</label><div class=\"sk-toggleable__content\"><pre>Pipeline(steps=[(&#x27;scaler&#x27;, StandardScaler()), (&#x27;selector&#x27;, SelectKBest(k=45)),\n",
              "                (&#x27;model&#x27;,\n",
              "                 XGBRegressor(base_score=None, booster=None, callbacks=None,\n",
              "                              colsample_bylevel=None, colsample_bynode=None,\n",
              "                              colsample_bytree=None, early_stopping_rounds=None,\n",
              "                              enable_categorical=False, eval_metric=None,\n",
              "                              feature_types=None, gamma=None, gpu_id=None,\n",
              "                              grow_policy=None, importance_type=None,\n",
              "                              interaction_constraints=None, learning_rate=None,\n",
              "                              max_bin=None, max_cat_threshold=None,\n",
              "                              max_cat_to_onehot=None, max_delta_step=None,\n",
              "                              max_depth=None, max_leaves=None,\n",
              "                              min_child_weight=None, missing=nan,\n",
              "                              monotone_constraints=None, n_estimators=100,\n",
              "                              n_jobs=None, num_parallel_tree=None,\n",
              "                              predictor=None, random_state=42, ...))])</pre></div></div></div><div class=\"sk-serial\"><div class=\"sk-item\"><div class=\"sk-serial\"><div class=\"sk-item\"><div class=\"sk-estimator sk-toggleable\"><input class=\"sk-toggleable__control sk-hidden--visually\" id=\"sk-estimator-id-3\" type=\"checkbox\" ><label for=\"sk-estimator-id-3\" class=\"sk-toggleable__label sk-toggleable__label-arrow\">StandardScaler</label><div class=\"sk-toggleable__content\"><pre>StandardScaler()</pre></div></div></div><div class=\"sk-item\"><div class=\"sk-estimator sk-toggleable\"><input class=\"sk-toggleable__control sk-hidden--visually\" id=\"sk-estimator-id-4\" type=\"checkbox\" ><label for=\"sk-estimator-id-4\" class=\"sk-toggleable__label sk-toggleable__label-arrow\">SelectKBest</label><div class=\"sk-toggleable__content\"><pre>SelectKBest(k=45)</pre></div></div></div><div class=\"sk-item\"><div class=\"sk-estimator sk-toggleable\"><input class=\"sk-toggleable__control sk-hidden--visually\" id=\"sk-estimator-id-5\" type=\"checkbox\" ><label for=\"sk-estimator-id-5\" class=\"sk-toggleable__label sk-toggleable__label-arrow\">XGBRegressor</label><div class=\"sk-toggleable__content\"><pre>XGBRegressor(base_score=None, booster=None, callbacks=None,\n",
              "             colsample_bylevel=None, colsample_bynode=None,\n",
              "             colsample_bytree=None, early_stopping_rounds=None,\n",
              "             enable_categorical=False, eval_metric=None, feature_types=None,\n",
              "             gamma=None, gpu_id=None, grow_policy=None, importance_type=None,\n",
              "             interaction_constraints=None, learning_rate=None, max_bin=None,\n",
              "             max_cat_threshold=None, max_cat_to_onehot=None,\n",
              "             max_delta_step=None, max_depth=None, max_leaves=None,\n",
              "             min_child_weight=None, missing=nan, monotone_constraints=None,\n",
              "             n_estimators=100, n_jobs=None, num_parallel_tree=None,\n",
              "             predictor=None, random_state=42, ...)</pre></div></div></div></div></div></div></div></div></div></div></div></div>"
            ]
          },
          "metadata": {},
          "execution_count": 55
        }
      ],
      "source": [
        "# Create a dictionary to select the optimum \"k\" value for SelectKBest\n",
        "param_grid = {\n",
        "        'selector__k': [10,20,30,40,45,50]\n",
        "}\n",
        "\n",
        "# Select the optimum \"k\" value with GridSearch\n",
        "grid = GridSearchCV(pipe, param_grid, cv=skf, scoring='r2', n_jobs=-1)\n",
        "grid.fit(X_train, y_train)"
      ]
    },
    {
      "cell_type": "code",
      "execution_count": null,
      "metadata": {
        "id": "gcuBJ_6Iq3mh",
        "colab": {
          "base_uri": "https://localhost:8080/"
        },
        "outputId": "bac60e48-ac8c-49ca-e5a1-0c5fe47a6c41"
      },
      "outputs": [
        {
          "output_type": "stream",
          "name": "stdout",
          "text": [
            "Best Parameters: {'selector__k': 30}\n",
            "Best R2: 0.5071517137818191\n"
          ]
        }
      ],
      "source": [
        "print(f'Best Parameters: {grid.best_params_}')\n",
        "print(f'Best R2: {grid.best_score_}')"
      ]
    },
    {
      "cell_type": "code",
      "execution_count": null,
      "metadata": {
        "id": "G8EiFoUItizk"
      },
      "outputs": [],
      "source": [
        "# Redefine the pipeline with the best k value\n",
        "pipe = grid.best_estimator_"
      ]
    },
    {
      "cell_type": "code",
      "execution_count": null,
      "metadata": {
        "colab": {
          "base_uri": "https://localhost:8080/"
        },
        "id": "sDoLs4bktiRh",
        "outputId": "e86c55d5-0481-408b-9ac4-94b4804f4b81"
      },
      "outputs": [
        {
          "output_type": "stream",
          "name": "stdout",
          "text": [
            "Mean Squared Error: 0.15793334474411325\n",
            "R2 Score: 0.4753451902920902\n",
            "F1 Score: 0.5755858410731509\n"
          ]
        }
      ],
      "source": [
        "# Train the model\n",
        "pipe.fit(X_train, y_train)\n",
        "\n",
        "# Make predictions\n",
        "y_pred = pipe.predict(X_train)\n",
        "y_pred = np.around(y_pred)\n",
        "\n",
        "# Evaluate the performance of the model\n",
        "mse = mean_squared_error(y_train, y_pred)\n",
        "r2 = r2_score(y_train, y_pred)\n",
        "f1 = f1_score(y_train, y_pred, average = \"macro\")\n",
        "print(f'Mean Squared Error: {mse}')\n",
        "print(f'R2 Score: {r2}')\n",
        "print(f'F1 Score: {f1}')"
      ]
    },
    {
      "cell_type": "code",
      "execution_count": null,
      "metadata": {
        "colab": {
          "base_uri": "https://localhost:8080/"
        },
        "id": "VVnJivtQ8HCr",
        "outputId": "093cb444-2547-4f49-bb37-5c563ec99d06"
      },
      "outputs": [
        {
          "output_type": "stream",
          "name": "stdout",
          "text": [
            "Sum of the new predictions based on train set: 9532.0\n",
            "Sum of the train set: 10883\n"
          ]
        }
      ],
      "source": [
        "print(f\"Sum of the new predictions based on train set: {y_pred.sum()}\")\n",
        "print(f\"Sum of the train set: {y_train.sum()}\")"
      ]
    },
    {
      "cell_type": "code",
      "source": [
        "ffcv = cross_val_score(pipe, X_train, y_train, cv= skf, scoring = \"r2\")\n",
        "print(f\"New Average CV Score: {np.mean(ffcv)}\")\n",
        "print(f\"New CV Scores: {ffcv}\")"
      ],
      "metadata": {
        "id": "JuakfvyWId_Y",
        "colab": {
          "base_uri": "https://localhost:8080/"
        },
        "outputId": "ad347d7d-4cdd-4023-87f2-714fc52fde06"
      },
      "execution_count": null,
      "outputs": [
        {
          "output_type": "stream",
          "name": "stdout",
          "text": [
            "New Average CV Score: 0.5071517137818191\n",
            "New CV Scores: [0.49791266 0.52271482 0.49781697 0.51018103 0.5071331 ]\n"
          ]
        }
      ]
    },
    {
      "cell_type": "code",
      "source": [
        "## TEST SET PREDICTION"
      ],
      "metadata": {
        "id": "2z2nyhC5p_FC"
      },
      "execution_count": null,
      "outputs": []
    },
    {
      "cell_type": "code",
      "execution_count": null,
      "metadata": {
        "id": "Gh7NvC2IwsPe"
      },
      "outputs": [],
      "source": [
        "# Predictions\n",
        "y_pred_test = pipe.predict(X_test)\n",
        "y_pred_test = np.around(y_pred_test)"
      ]
    },
    {
      "cell_type": "code",
      "execution_count": null,
      "metadata": {
        "colab": {
          "base_uri": "https://localhost:8080/"
        },
        "id": "-cNBrQPzeQjY",
        "outputId": "7087240d-b343-4d50-a912-d17223c6b28c"
      },
      "outputs": [
        {
          "output_type": "stream",
          "name": "stdout",
          "text": [
            " Sum of the test set: 5531\n",
            " Sum of the predictions based on test set: 10295.0\n"
          ]
        }
      ],
      "source": [
        "print(f\" Sum of the test set: {y_test.sum()}\")\n",
        "print(f\" Sum of the predictions based on test set: {y_pred_test.sum()}\")"
      ]
    },
    {
      "cell_type": "code",
      "source": [
        "out_excel"
      ],
      "metadata": {
        "colab": {
          "base_uri": "https://localhost:8080/",
          "height": 419
        },
        "id": "Rt8O4CQz13oV",
        "outputId": "9918addb-0fb3-4903-c190-ad57d35a4640"
      },
      "execution_count": null,
      "outputs": [
        {
          "output_type": "execute_result",
          "data": {
            "text/plain": [
              "        Hafta                      Birim Beden     Renk  Satış  Stok  \\\n",
              "19         17  A.pazarı Agora Mudo Giyim     M    KEKİK      2     0   \n",
              "27         17  A.pazarı Agora Mudo Giyim     S    YEŞİL      1     0   \n",
              "33         17  A.pazarı Agora Mudo Giyim    XL  KİREMİT      1     0   \n",
              "36         17  A.pazarı Agora Mudo Giyim    XL   İNDİGO      1     0   \n",
              "39         17  A.pazarı Agora Mudo Giyim    XL    KEKİK      1     0   \n",
              "...       ...                        ...   ...      ...    ...   ...   \n",
              "187901     52        Yalova Setur Marina   XXL    SİYAH      0     0   \n",
              "187906     52        Yalova Setur Marina   XXL   İNDİGO      0     0   \n",
              "187910     52        Yalova Setur Marina  XXXL    BEYAZ      0     0   \n",
              "187911     52        Yalova Setur Marina  XXXL    SİYAH      0     0   \n",
              "187916     52        Yalova Setur Marina  XXXL   İNDİGO      0     0   \n",
              "\n",
              "            gen_MA_1  \n",
              "19      9.301005e-03  \n",
              "27      1.799006e-08  \n",
              "33      6.731367e-02  \n",
              "36      1.196076e-09  \n",
              "39      2.198622e-02  \n",
              "...              ...  \n",
              "187901  7.860120e-02  \n",
              "187906  1.277042e-10  \n",
              "187910  3.162078e-02  \n",
              "187911  2.924529e-03  \n",
              "187916  3.389235e-03  \n",
              "\n",
              "[122173 rows x 7 columns]"
            ],
            "text/html": [
              "\n",
              "  <div id=\"df-655a7f4d-5c7b-4f15-bd39-43e07d3ae147\">\n",
              "    <div class=\"colab-df-container\">\n",
              "      <div>\n",
              "<style scoped>\n",
              "    .dataframe tbody tr th:only-of-type {\n",
              "        vertical-align: middle;\n",
              "    }\n",
              "\n",
              "    .dataframe tbody tr th {\n",
              "        vertical-align: top;\n",
              "    }\n",
              "\n",
              "    .dataframe thead th {\n",
              "        text-align: right;\n",
              "    }\n",
              "</style>\n",
              "<table border=\"1\" class=\"dataframe\">\n",
              "  <thead>\n",
              "    <tr style=\"text-align: right;\">\n",
              "      <th></th>\n",
              "      <th>Hafta</th>\n",
              "      <th>Birim</th>\n",
              "      <th>Beden</th>\n",
              "      <th>Renk</th>\n",
              "      <th>Satış</th>\n",
              "      <th>Stok</th>\n",
              "      <th>gen_MA_1</th>\n",
              "    </tr>\n",
              "  </thead>\n",
              "  <tbody>\n",
              "    <tr>\n",
              "      <th>19</th>\n",
              "      <td>17</td>\n",
              "      <td>A.pazarı Agora Mudo Giyim</td>\n",
              "      <td>M</td>\n",
              "      <td>KEKİK</td>\n",
              "      <td>2</td>\n",
              "      <td>0</td>\n",
              "      <td>9.301005e-03</td>\n",
              "    </tr>\n",
              "    <tr>\n",
              "      <th>27</th>\n",
              "      <td>17</td>\n",
              "      <td>A.pazarı Agora Mudo Giyim</td>\n",
              "      <td>S</td>\n",
              "      <td>YEŞİL</td>\n",
              "      <td>1</td>\n",
              "      <td>0</td>\n",
              "      <td>1.799006e-08</td>\n",
              "    </tr>\n",
              "    <tr>\n",
              "      <th>33</th>\n",
              "      <td>17</td>\n",
              "      <td>A.pazarı Agora Mudo Giyim</td>\n",
              "      <td>XL</td>\n",
              "      <td>KİREMİT</td>\n",
              "      <td>1</td>\n",
              "      <td>0</td>\n",
              "      <td>6.731367e-02</td>\n",
              "    </tr>\n",
              "    <tr>\n",
              "      <th>36</th>\n",
              "      <td>17</td>\n",
              "      <td>A.pazarı Agora Mudo Giyim</td>\n",
              "      <td>XL</td>\n",
              "      <td>İNDİGO</td>\n",
              "      <td>1</td>\n",
              "      <td>0</td>\n",
              "      <td>1.196076e-09</td>\n",
              "    </tr>\n",
              "    <tr>\n",
              "      <th>39</th>\n",
              "      <td>17</td>\n",
              "      <td>A.pazarı Agora Mudo Giyim</td>\n",
              "      <td>XL</td>\n",
              "      <td>KEKİK</td>\n",
              "      <td>1</td>\n",
              "      <td>0</td>\n",
              "      <td>2.198622e-02</td>\n",
              "    </tr>\n",
              "    <tr>\n",
              "      <th>...</th>\n",
              "      <td>...</td>\n",
              "      <td>...</td>\n",
              "      <td>...</td>\n",
              "      <td>...</td>\n",
              "      <td>...</td>\n",
              "      <td>...</td>\n",
              "      <td>...</td>\n",
              "    </tr>\n",
              "    <tr>\n",
              "      <th>187901</th>\n",
              "      <td>52</td>\n",
              "      <td>Yalova Setur Marina</td>\n",
              "      <td>XXL</td>\n",
              "      <td>SİYAH</td>\n",
              "      <td>0</td>\n",
              "      <td>0</td>\n",
              "      <td>7.860120e-02</td>\n",
              "    </tr>\n",
              "    <tr>\n",
              "      <th>187906</th>\n",
              "      <td>52</td>\n",
              "      <td>Yalova Setur Marina</td>\n",
              "      <td>XXL</td>\n",
              "      <td>İNDİGO</td>\n",
              "      <td>0</td>\n",
              "      <td>0</td>\n",
              "      <td>1.277042e-10</td>\n",
              "    </tr>\n",
              "    <tr>\n",
              "      <th>187910</th>\n",
              "      <td>52</td>\n",
              "      <td>Yalova Setur Marina</td>\n",
              "      <td>XXXL</td>\n",
              "      <td>BEYAZ</td>\n",
              "      <td>0</td>\n",
              "      <td>0</td>\n",
              "      <td>3.162078e-02</td>\n",
              "    </tr>\n",
              "    <tr>\n",
              "      <th>187911</th>\n",
              "      <td>52</td>\n",
              "      <td>Yalova Setur Marina</td>\n",
              "      <td>XXXL</td>\n",
              "      <td>SİYAH</td>\n",
              "      <td>0</td>\n",
              "      <td>0</td>\n",
              "      <td>2.924529e-03</td>\n",
              "    </tr>\n",
              "    <tr>\n",
              "      <th>187916</th>\n",
              "      <td>52</td>\n",
              "      <td>Yalova Setur Marina</td>\n",
              "      <td>XXXL</td>\n",
              "      <td>İNDİGO</td>\n",
              "      <td>0</td>\n",
              "      <td>0</td>\n",
              "      <td>3.389235e-03</td>\n",
              "    </tr>\n",
              "  </tbody>\n",
              "</table>\n",
              "<p>122173 rows × 7 columns</p>\n",
              "</div>\n",
              "      <button class=\"colab-df-convert\" onclick=\"convertToInteractive('df-655a7f4d-5c7b-4f15-bd39-43e07d3ae147')\"\n",
              "              title=\"Convert this dataframe to an interactive table.\"\n",
              "              style=\"display:none;\">\n",
              "        \n",
              "  <svg xmlns=\"http://www.w3.org/2000/svg\" height=\"24px\"viewBox=\"0 0 24 24\"\n",
              "       width=\"24px\">\n",
              "    <path d=\"M0 0h24v24H0V0z\" fill=\"none\"/>\n",
              "    <path d=\"M18.56 5.44l.94 2.06.94-2.06 2.06-.94-2.06-.94-.94-2.06-.94 2.06-2.06.94zm-11 1L8.5 8.5l.94-2.06 2.06-.94-2.06-.94L8.5 2.5l-.94 2.06-2.06.94zm10 10l.94 2.06.94-2.06 2.06-.94-2.06-.94-.94-2.06-.94 2.06-2.06.94z\"/><path d=\"M17.41 7.96l-1.37-1.37c-.4-.4-.92-.59-1.43-.59-.52 0-1.04.2-1.43.59L10.3 9.45l-7.72 7.72c-.78.78-.78 2.05 0 2.83L4 21.41c.39.39.9.59 1.41.59.51 0 1.02-.2 1.41-.59l7.78-7.78 2.81-2.81c.8-.78.8-2.07 0-2.86zM5.41 20L4 18.59l7.72-7.72 1.47 1.35L5.41 20z\"/>\n",
              "  </svg>\n",
              "      </button>\n",
              "      \n",
              "  <style>\n",
              "    .colab-df-container {\n",
              "      display:flex;\n",
              "      flex-wrap:wrap;\n",
              "      gap: 12px;\n",
              "    }\n",
              "\n",
              "    .colab-df-convert {\n",
              "      background-color: #E8F0FE;\n",
              "      border: none;\n",
              "      border-radius: 50%;\n",
              "      cursor: pointer;\n",
              "      display: none;\n",
              "      fill: #1967D2;\n",
              "      height: 32px;\n",
              "      padding: 0 0 0 0;\n",
              "      width: 32px;\n",
              "    }\n",
              "\n",
              "    .colab-df-convert:hover {\n",
              "      background-color: #E2EBFA;\n",
              "      box-shadow: 0px 1px 2px rgba(60, 64, 67, 0.3), 0px 1px 3px 1px rgba(60, 64, 67, 0.15);\n",
              "      fill: #174EA6;\n",
              "    }\n",
              "\n",
              "    [theme=dark] .colab-df-convert {\n",
              "      background-color: #3B4455;\n",
              "      fill: #D2E3FC;\n",
              "    }\n",
              "\n",
              "    [theme=dark] .colab-df-convert:hover {\n",
              "      background-color: #434B5C;\n",
              "      box-shadow: 0px 1px 3px 1px rgba(0, 0, 0, 0.15);\n",
              "      filter: drop-shadow(0px 1px 2px rgba(0, 0, 0, 0.3));\n",
              "      fill: #FFFFFF;\n",
              "    }\n",
              "  </style>\n",
              "\n",
              "      <script>\n",
              "        const buttonEl =\n",
              "          document.querySelector('#df-655a7f4d-5c7b-4f15-bd39-43e07d3ae147 button.colab-df-convert');\n",
              "        buttonEl.style.display =\n",
              "          google.colab.kernel.accessAllowed ? 'block' : 'none';\n",
              "\n",
              "        async function convertToInteractive(key) {\n",
              "          const element = document.querySelector('#df-655a7f4d-5c7b-4f15-bd39-43e07d3ae147');\n",
              "          const dataTable =\n",
              "            await google.colab.kernel.invokeFunction('convertToInteractive',\n",
              "                                                     [key], {});\n",
              "          if (!dataTable) return;\n",
              "\n",
              "          const docLinkHtml = 'Like what you see? Visit the ' +\n",
              "            '<a target=\"_blank\" href=https://colab.research.google.com/notebooks/data_table.ipynb>data table notebook</a>'\n",
              "            + ' to learn more about interactive tables.';\n",
              "          element.innerHTML = '';\n",
              "          dataTable['output_type'] = 'display_data';\n",
              "          await google.colab.output.renderOutput(dataTable, element);\n",
              "          const docLink = document.createElement('div');\n",
              "          docLink.innerHTML = docLinkHtml;\n",
              "          element.appendChild(docLink);\n",
              "        }\n",
              "      </script>\n",
              "    </div>\n",
              "  </div>\n",
              "  "
            ]
          },
          "metadata": {},
          "execution_count": 64
        }
      ]
    },
    {
      "cell_type": "code",
      "execution_count": null,
      "metadata": {
        "id": "tF0gywdBqp8T"
      },
      "outputs": [],
      "source": [
        "# Add the prediction column named \"pred\" to the prepared template\n",
        "out_excel[\"pred\"] = y_pred_test"
      ]
    },
    {
      "cell_type": "code",
      "execution_count": null,
      "metadata": {
        "id": "5Cbeo_UVqs95"
      },
      "outputs": [],
      "source": [
        "# Add the Kayıp Satış (\"KS\") column max(0, (Prediction - Obsorved))\n",
        "out_excel['KS'] = out_excel.apply(lambda row: max(0, row['pred']-row['Satış']), axis=1)"
      ]
    },
    {
      "cell_type": "code",
      "execution_count": null,
      "metadata": {
        "colab": {
          "base_uri": "https://localhost:8080/"
        },
        "id": "yq5_zN9Ur29f",
        "outputId": "6a832237-338b-491a-c37f-e58fe50fcf57"
      },
      "outputs": [
        {
          "output_type": "stream",
          "name": "stdout",
          "text": [
            " Sum of the Lost sales: 6251.0\n"
          ]
        }
      ],
      "source": [
        "print(f\" Sum of the Lost sales: {out_excel.KS.sum()}\")"
      ]
    },
    {
      "cell_type": "code",
      "execution_count": null,
      "metadata": {
        "id": "ycQOM40-r0CR"
      },
      "outputs": [],
      "source": [
        "# Export the Excel file\n",
        "out_excel.to_excel(str(\"KS_\"+piece+\".xlsx\"))"
      ]
    }
  ],
  "metadata": {
    "colab": {
      "provenance": [],
      "authorship_tag": "ABX9TyNOxio+gEsncm0FcUfTAOdM",
      "include_colab_link": true
    },
    "kernelspec": {
      "display_name": "Python 3",
      "name": "python3"
    },
    "language_info": {
      "name": "python"
    }
  },
  "nbformat": 4,
  "nbformat_minor": 0
}